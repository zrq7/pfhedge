{
  "cells": [
    {
      "cell_type": "code",
      "execution_count": 2,
      "metadata": {
        "id": "vdGC3mEEyhjl",
        "outputId": "bb987813-e0ce-4424-b90e-84c85c42795f",
        "colab": {
          "base_uri": "https://localhost:8080/"
        }
      },
      "outputs": [
        {
          "output_type": "stream",
          "name": "stdout",
          "text": [
            "Requirement already satisfied: pfhedge in /usr/local/lib/python3.11/dist-packages (0.23.0)\n",
            "Requirement already satisfied: numpy<2.0,>=1.26 in /usr/local/lib/python3.11/dist-packages (from pfhedge) (1.26.4)\n",
            "Requirement already satisfied: torch<3.0.0,>=1.9.0 in /usr/local/lib/python3.11/dist-packages (from pfhedge) (2.6.0+cu124)\n",
            "Requirement already satisfied: tqdm<5.0.0,>=4.62.3 in /usr/local/lib/python3.11/dist-packages (from pfhedge) (4.67.1)\n",
            "Requirement already satisfied: filelock in /usr/local/lib/python3.11/dist-packages (from torch<3.0.0,>=1.9.0->pfhedge) (3.18.0)\n",
            "Requirement already satisfied: typing-extensions>=4.10.0 in /usr/local/lib/python3.11/dist-packages (from torch<3.0.0,>=1.9.0->pfhedge) (4.13.1)\n",
            "Requirement already satisfied: networkx in /usr/local/lib/python3.11/dist-packages (from torch<3.0.0,>=1.9.0->pfhedge) (3.4.2)\n",
            "Requirement already satisfied: jinja2 in /usr/local/lib/python3.11/dist-packages (from torch<3.0.0,>=1.9.0->pfhedge) (3.1.6)\n",
            "Requirement already satisfied: fsspec in /usr/local/lib/python3.11/dist-packages (from torch<3.0.0,>=1.9.0->pfhedge) (2025.3.2)\n",
            "Requirement already satisfied: nvidia-cuda-nvrtc-cu12==12.4.127 in /usr/local/lib/python3.11/dist-packages (from torch<3.0.0,>=1.9.0->pfhedge) (12.4.127)\n",
            "Requirement already satisfied: nvidia-cuda-runtime-cu12==12.4.127 in /usr/local/lib/python3.11/dist-packages (from torch<3.0.0,>=1.9.0->pfhedge) (12.4.127)\n",
            "Requirement already satisfied: nvidia-cuda-cupti-cu12==12.4.127 in /usr/local/lib/python3.11/dist-packages (from torch<3.0.0,>=1.9.0->pfhedge) (12.4.127)\n",
            "Requirement already satisfied: nvidia-cudnn-cu12==9.1.0.70 in /usr/local/lib/python3.11/dist-packages (from torch<3.0.0,>=1.9.0->pfhedge) (9.1.0.70)\n",
            "Requirement already satisfied: nvidia-cublas-cu12==12.4.5.8 in /usr/local/lib/python3.11/dist-packages (from torch<3.0.0,>=1.9.0->pfhedge) (12.4.5.8)\n",
            "Requirement already satisfied: nvidia-cufft-cu12==11.2.1.3 in /usr/local/lib/python3.11/dist-packages (from torch<3.0.0,>=1.9.0->pfhedge) (11.2.1.3)\n",
            "Requirement already satisfied: nvidia-curand-cu12==10.3.5.147 in /usr/local/lib/python3.11/dist-packages (from torch<3.0.0,>=1.9.0->pfhedge) (10.3.5.147)\n",
            "Requirement already satisfied: nvidia-cusolver-cu12==11.6.1.9 in /usr/local/lib/python3.11/dist-packages (from torch<3.0.0,>=1.9.0->pfhedge) (11.6.1.9)\n",
            "Requirement already satisfied: nvidia-cusparse-cu12==12.3.1.170 in /usr/local/lib/python3.11/dist-packages (from torch<3.0.0,>=1.9.0->pfhedge) (12.3.1.170)\n",
            "Requirement already satisfied: nvidia-cusparselt-cu12==0.6.2 in /usr/local/lib/python3.11/dist-packages (from torch<3.0.0,>=1.9.0->pfhedge) (0.6.2)\n",
            "Requirement already satisfied: nvidia-nccl-cu12==2.21.5 in /usr/local/lib/python3.11/dist-packages (from torch<3.0.0,>=1.9.0->pfhedge) (2.21.5)\n",
            "Requirement already satisfied: nvidia-nvtx-cu12==12.4.127 in /usr/local/lib/python3.11/dist-packages (from torch<3.0.0,>=1.9.0->pfhedge) (12.4.127)\n",
            "Requirement already satisfied: nvidia-nvjitlink-cu12==12.4.127 in /usr/local/lib/python3.11/dist-packages (from torch<3.0.0,>=1.9.0->pfhedge) (12.4.127)\n",
            "Requirement already satisfied: triton==3.2.0 in /usr/local/lib/python3.11/dist-packages (from torch<3.0.0,>=1.9.0->pfhedge) (3.2.0)\n",
            "Requirement already satisfied: sympy==1.13.1 in /usr/local/lib/python3.11/dist-packages (from torch<3.0.0,>=1.9.0->pfhedge) (1.13.1)\n",
            "Requirement already satisfied: mpmath<1.4,>=1.1.0 in /usr/local/lib/python3.11/dist-packages (from sympy==1.13.1->torch<3.0.0,>=1.9.0->pfhedge) (1.3.0)\n",
            "Requirement already satisfied: MarkupSafe>=2.0 in /usr/local/lib/python3.11/dist-packages (from jinja2->torch<3.0.0,>=1.9.0->pfhedge) (3.0.2)\n"
          ]
        }
      ],
      "source": [
        "!pip install pfhedge"
      ],
      "id": "vdGC3mEEyhjl"
    },
    {
      "cell_type": "code",
      "execution_count": 3,
      "metadata": {
        "id": "MbnAMVUnyhjn",
        "outputId": "fd2d2bfd-96d2-4deb-c39e-b43451574ce5",
        "colab": {
          "base_uri": "https://localhost:8080/",
          "height": 367
        }
      },
      "outputs": [
        {
          "output_type": "error",
          "ename": "ValueError",
          "evalue": "numpy.dtype size changed, may indicate binary incompatibility. Expected 96 from C header, got 88 from PyObject",
          "traceback": [
            "\u001b[0;31m---------------------------------------------------------------------------\u001b[0m",
            "\u001b[0;31mValueError\u001b[0m                                Traceback (most recent call last)",
            "\u001b[0;32m<ipython-input-3-24bb0eaddea6>\u001b[0m in \u001b[0;36m<cell line: 0>\u001b[0;34m()\u001b[0m\n\u001b[1;32m      2\u001b[0m \u001b[0;32mimport\u001b[0m \u001b[0mmatplotlib\u001b[0m\u001b[0;34m.\u001b[0m\u001b[0mpyplot\u001b[0m \u001b[0;32mas\u001b[0m \u001b[0mplt\u001b[0m\u001b[0;34m\u001b[0m\u001b[0;34m\u001b[0m\u001b[0m\n\u001b[1;32m      3\u001b[0m \u001b[0;32mimport\u001b[0m \u001b[0mnumpy\u001b[0m \u001b[0;32mas\u001b[0m \u001b[0mnp\u001b[0m\u001b[0;34m\u001b[0m\u001b[0;34m\u001b[0m\u001b[0m\n\u001b[0;32m----> 4\u001b[0;31m \u001b[0;32mimport\u001b[0m \u001b[0mseaborn\u001b[0m\u001b[0;34m\u001b[0m\u001b[0;34m\u001b[0m\u001b[0m\n\u001b[0m\u001b[1;32m      5\u001b[0m \u001b[0;32mimport\u001b[0m \u001b[0mtorch\u001b[0m\u001b[0;34m\u001b[0m\u001b[0;34m\u001b[0m\u001b[0m\n",
            "\u001b[0;32m/usr/local/lib/python3.11/dist-packages/seaborn/__init__.py\u001b[0m in \u001b[0;36m<module>\u001b[0;34m\u001b[0m\n\u001b[1;32m      1\u001b[0m \u001b[0;31m# Import seaborn objects\u001b[0m\u001b[0;34m\u001b[0m\u001b[0;34m\u001b[0m\u001b[0m\n\u001b[0;32m----> 2\u001b[0;31m \u001b[0;32mfrom\u001b[0m \u001b[0;34m.\u001b[0m\u001b[0mrcmod\u001b[0m \u001b[0;32mimport\u001b[0m \u001b[0;34m*\u001b[0m  \u001b[0;31m# noqa: F401,F403\u001b[0m\u001b[0;34m\u001b[0m\u001b[0;34m\u001b[0m\u001b[0m\n\u001b[0m\u001b[1;32m      3\u001b[0m \u001b[0;32mfrom\u001b[0m \u001b[0;34m.\u001b[0m\u001b[0mutils\u001b[0m \u001b[0;32mimport\u001b[0m \u001b[0;34m*\u001b[0m  \u001b[0;31m# noqa: F401,F403\u001b[0m\u001b[0;34m\u001b[0m\u001b[0;34m\u001b[0m\u001b[0m\n\u001b[1;32m      4\u001b[0m \u001b[0;32mfrom\u001b[0m \u001b[0;34m.\u001b[0m\u001b[0mpalettes\u001b[0m \u001b[0;32mimport\u001b[0m \u001b[0;34m*\u001b[0m  \u001b[0;31m# noqa: F401,F403\u001b[0m\u001b[0;34m\u001b[0m\u001b[0;34m\u001b[0m\u001b[0m\n\u001b[1;32m      5\u001b[0m \u001b[0;32mfrom\u001b[0m \u001b[0;34m.\u001b[0m\u001b[0mrelational\u001b[0m \u001b[0;32mimport\u001b[0m \u001b[0;34m*\u001b[0m  \u001b[0;31m# noqa: F401,F403\u001b[0m\u001b[0;34m\u001b[0m\u001b[0;34m\u001b[0m\u001b[0m\n",
            "\u001b[0;32m/usr/local/lib/python3.11/dist-packages/seaborn/rcmod.py\u001b[0m in \u001b[0;36m<module>\u001b[0;34m\u001b[0m\n\u001b[1;32m      3\u001b[0m \u001b[0;32mimport\u001b[0m \u001b[0mmatplotlib\u001b[0m \u001b[0;32mas\u001b[0m \u001b[0mmpl\u001b[0m\u001b[0;34m\u001b[0m\u001b[0;34m\u001b[0m\u001b[0m\n\u001b[1;32m      4\u001b[0m \u001b[0;32mfrom\u001b[0m \u001b[0mcycler\u001b[0m \u001b[0;32mimport\u001b[0m \u001b[0mcycler\u001b[0m\u001b[0;34m\u001b[0m\u001b[0;34m\u001b[0m\u001b[0m\n\u001b[0;32m----> 5\u001b[0;31m \u001b[0;32mfrom\u001b[0m \u001b[0;34m.\u001b[0m \u001b[0;32mimport\u001b[0m \u001b[0mpalettes\u001b[0m\u001b[0;34m\u001b[0m\u001b[0;34m\u001b[0m\u001b[0m\n\u001b[0m\u001b[1;32m      6\u001b[0m \u001b[0;34m\u001b[0m\u001b[0m\n\u001b[1;32m      7\u001b[0m \u001b[0;34m\u001b[0m\u001b[0m\n",
            "\u001b[0;32m/usr/local/lib/python3.11/dist-packages/seaborn/palettes.py\u001b[0m in \u001b[0;36m<module>\u001b[0;34m\u001b[0m\n\u001b[1;32m      7\u001b[0m \u001b[0;32mfrom\u001b[0m \u001b[0;34m.\u001b[0m\u001b[0mexternal\u001b[0m \u001b[0;32mimport\u001b[0m \u001b[0mhusl\u001b[0m\u001b[0;34m\u001b[0m\u001b[0;34m\u001b[0m\u001b[0m\n\u001b[1;32m      8\u001b[0m \u001b[0;34m\u001b[0m\u001b[0m\n\u001b[0;32m----> 9\u001b[0;31m \u001b[0;32mfrom\u001b[0m \u001b[0;34m.\u001b[0m\u001b[0mutils\u001b[0m \u001b[0;32mimport\u001b[0m \u001b[0mdesaturate\u001b[0m\u001b[0;34m,\u001b[0m \u001b[0mget_color_cycle\u001b[0m\u001b[0;34m\u001b[0m\u001b[0;34m\u001b[0m\u001b[0m\n\u001b[0m\u001b[1;32m     10\u001b[0m \u001b[0;32mfrom\u001b[0m \u001b[0;34m.\u001b[0m\u001b[0mcolors\u001b[0m \u001b[0;32mimport\u001b[0m \u001b[0mxkcd_rgb\u001b[0m\u001b[0;34m,\u001b[0m \u001b[0mcrayons\u001b[0m\u001b[0;34m\u001b[0m\u001b[0;34m\u001b[0m\u001b[0m\n\u001b[1;32m     11\u001b[0m \u001b[0;32mfrom\u001b[0m \u001b[0;34m.\u001b[0m\u001b[0m_compat\u001b[0m \u001b[0;32mimport\u001b[0m \u001b[0mget_colormap\u001b[0m\u001b[0;34m\u001b[0m\u001b[0;34m\u001b[0m\u001b[0m\n",
            "\u001b[0;32m/usr/local/lib/python3.11/dist-packages/seaborn/utils.py\u001b[0m in \u001b[0;36m<module>\u001b[0;34m\u001b[0m\n\u001b[1;32m      9\u001b[0m \u001b[0;34m\u001b[0m\u001b[0m\n\u001b[1;32m     10\u001b[0m \u001b[0;32mimport\u001b[0m \u001b[0mnumpy\u001b[0m \u001b[0;32mas\u001b[0m \u001b[0mnp\u001b[0m\u001b[0;34m\u001b[0m\u001b[0;34m\u001b[0m\u001b[0m\n\u001b[0;32m---> 11\u001b[0;31m \u001b[0;32mimport\u001b[0m \u001b[0mpandas\u001b[0m \u001b[0;32mas\u001b[0m \u001b[0mpd\u001b[0m\u001b[0;34m\u001b[0m\u001b[0;34m\u001b[0m\u001b[0m\n\u001b[0m\u001b[1;32m     12\u001b[0m \u001b[0;32mimport\u001b[0m \u001b[0mmatplotlib\u001b[0m \u001b[0;32mas\u001b[0m \u001b[0mmpl\u001b[0m\u001b[0;34m\u001b[0m\u001b[0;34m\u001b[0m\u001b[0m\n\u001b[1;32m     13\u001b[0m \u001b[0;32mfrom\u001b[0m \u001b[0mmatplotlib\u001b[0m\u001b[0;34m.\u001b[0m\u001b[0mcolors\u001b[0m \u001b[0;32mimport\u001b[0m \u001b[0mto_rgb\u001b[0m\u001b[0;34m\u001b[0m\u001b[0;34m\u001b[0m\u001b[0m\n",
            "\u001b[0;32m/usr/local/lib/python3.11/dist-packages/pandas/__init__.py\u001b[0m in \u001b[0;36m<module>\u001b[0;34m\u001b[0m\n\u001b[1;32m     35\u001b[0m     ) from _err\n\u001b[1;32m     36\u001b[0m \u001b[0;34m\u001b[0m\u001b[0m\n\u001b[0;32m---> 37\u001b[0;31m from pandas._config import (\n\u001b[0m\u001b[1;32m     38\u001b[0m     \u001b[0mget_option\u001b[0m\u001b[0;34m,\u001b[0m\u001b[0;34m\u001b[0m\u001b[0;34m\u001b[0m\u001b[0m\n\u001b[1;32m     39\u001b[0m     \u001b[0mset_option\u001b[0m\u001b[0;34m,\u001b[0m\u001b[0;34m\u001b[0m\u001b[0;34m\u001b[0m\u001b[0m\n",
            "\u001b[0;32m/usr/local/lib/python3.11/dist-packages/pandas/_config/__init__.py\u001b[0m in \u001b[0;36m<module>\u001b[0;34m\u001b[0m\n\u001b[1;32m     18\u001b[0m     \u001b[0;34m\"warn_copy_on_write\"\u001b[0m\u001b[0;34m,\u001b[0m\u001b[0;34m\u001b[0m\u001b[0;34m\u001b[0m\u001b[0m\n\u001b[1;32m     19\u001b[0m ]\n\u001b[0;32m---> 20\u001b[0;31m \u001b[0;32mfrom\u001b[0m \u001b[0mpandas\u001b[0m\u001b[0;34m.\u001b[0m\u001b[0m_config\u001b[0m \u001b[0;32mimport\u001b[0m \u001b[0mconfig\u001b[0m\u001b[0;34m\u001b[0m\u001b[0;34m\u001b[0m\u001b[0m\n\u001b[0m\u001b[1;32m     21\u001b[0m \u001b[0;32mfrom\u001b[0m \u001b[0mpandas\u001b[0m\u001b[0;34m.\u001b[0m\u001b[0m_config\u001b[0m \u001b[0;32mimport\u001b[0m \u001b[0mdates\u001b[0m  \u001b[0;31m# pyright: ignore[reportUnusedImport]  # noqa: F401\u001b[0m\u001b[0;34m\u001b[0m\u001b[0;34m\u001b[0m\u001b[0m\n\u001b[1;32m     22\u001b[0m from pandas._config.config import (\n",
            "\u001b[0;32m/usr/local/lib/python3.11/dist-packages/pandas/_config/config.py\u001b[0m in \u001b[0;36m<module>\u001b[0;34m\u001b[0m\n\u001b[1;32m     66\u001b[0m \u001b[0;32mimport\u001b[0m \u001b[0mwarnings\u001b[0m\u001b[0;34m\u001b[0m\u001b[0;34m\u001b[0m\u001b[0m\n\u001b[1;32m     67\u001b[0m \u001b[0;34m\u001b[0m\u001b[0m\n\u001b[0;32m---> 68\u001b[0;31m from pandas._typing import (\n\u001b[0m\u001b[1;32m     69\u001b[0m     \u001b[0mF\u001b[0m\u001b[0;34m,\u001b[0m\u001b[0;34m\u001b[0m\u001b[0;34m\u001b[0m\u001b[0m\n\u001b[1;32m     70\u001b[0m     \u001b[0mT\u001b[0m\u001b[0;34m,\u001b[0m\u001b[0;34m\u001b[0m\u001b[0;34m\u001b[0m\u001b[0m\n",
            "\u001b[0;32m/usr/local/lib/python3.11/dist-packages/pandas/_typing.py\u001b[0m in \u001b[0;36m<module>\u001b[0;34m\u001b[0m\n\u001b[1;32m    196\u001b[0m     \u001b[0mint\u001b[0m\u001b[0;34m,\u001b[0m\u001b[0;34m\u001b[0m\u001b[0;34m\u001b[0m\u001b[0m\n\u001b[1;32m    197\u001b[0m     \u001b[0mnp\u001b[0m\u001b[0;34m.\u001b[0m\u001b[0mndarray\u001b[0m\u001b[0;34m,\u001b[0m\u001b[0;34m\u001b[0m\u001b[0;34m\u001b[0m\u001b[0m\n\u001b[0;32m--> 198\u001b[0;31m     \u001b[0mnp\u001b[0m\u001b[0;34m.\u001b[0m\u001b[0mrandom\u001b[0m\u001b[0;34m.\u001b[0m\u001b[0mGenerator\u001b[0m\u001b[0;34m,\u001b[0m\u001b[0;34m\u001b[0m\u001b[0;34m\u001b[0m\u001b[0m\n\u001b[0m\u001b[1;32m    199\u001b[0m     \u001b[0mnp\u001b[0m\u001b[0;34m.\u001b[0m\u001b[0mrandom\u001b[0m\u001b[0;34m.\u001b[0m\u001b[0mBitGenerator\u001b[0m\u001b[0;34m,\u001b[0m\u001b[0;34m\u001b[0m\u001b[0;34m\u001b[0m\u001b[0m\n\u001b[1;32m    200\u001b[0m     \u001b[0mnp\u001b[0m\u001b[0;34m.\u001b[0m\u001b[0mrandom\u001b[0m\u001b[0;34m.\u001b[0m\u001b[0mRandomState\u001b[0m\u001b[0;34m,\u001b[0m\u001b[0;34m\u001b[0m\u001b[0;34m\u001b[0m\u001b[0m\n",
            "\u001b[0;32m/usr/local/lib/python3.11/dist-packages/numpy/__init__.py\u001b[0m in \u001b[0;36m__getattr__\u001b[0;34m(attr)\u001b[0m\n\u001b[1;32m    335\u001b[0m \u001b[0;34m\u001b[0m\u001b[0m\n\u001b[1;32m    336\u001b[0m     \u001b[0;32mdef\u001b[0m \u001b[0m__dir__\u001b[0m\u001b[0;34m(\u001b[0m\u001b[0;34m)\u001b[0m\u001b[0;34m:\u001b[0m\u001b[0;34m\u001b[0m\u001b[0;34m\u001b[0m\u001b[0m\n\u001b[0;32m--> 337\u001b[0;31m         \u001b[0mpublic_symbols\u001b[0m \u001b[0;34m=\u001b[0m \u001b[0mglobals\u001b[0m\u001b[0;34m(\u001b[0m\u001b[0;34m)\u001b[0m\u001b[0;34m.\u001b[0m\u001b[0mkeys\u001b[0m\u001b[0;34m(\u001b[0m\u001b[0;34m)\u001b[0m \u001b[0;34m|\u001b[0m \u001b[0;34m{\u001b[0m\u001b[0;34m'testing'\u001b[0m\u001b[0;34m}\u001b[0m\u001b[0;34m\u001b[0m\u001b[0;34m\u001b[0m\u001b[0m\n\u001b[0m\u001b[1;32m    338\u001b[0m         public_symbols -= {\n\u001b[1;32m    339\u001b[0m             \u001b[0;34m\"core\"\u001b[0m\u001b[0;34m,\u001b[0m \u001b[0;34m\"matrixlib\"\u001b[0m\u001b[0;34m,\u001b[0m\u001b[0;34m\u001b[0m\u001b[0;34m\u001b[0m\u001b[0m\n",
            "\u001b[0;32m/usr/local/lib/python3.11/dist-packages/numpy/random/__init__.py\u001b[0m in \u001b[0;36m<module>\u001b[0;34m\u001b[0m\n\u001b[1;32m    178\u001b[0m \u001b[0;34m\u001b[0m\u001b[0m\n\u001b[1;32m    179\u001b[0m \u001b[0;31m# add these for module-freeze analysis (like PyInstaller)\u001b[0m\u001b[0;34m\u001b[0m\u001b[0;34m\u001b[0m\u001b[0m\n\u001b[0;32m--> 180\u001b[0;31m \u001b[0;32mfrom\u001b[0m \u001b[0;34m.\u001b[0m \u001b[0;32mimport\u001b[0m \u001b[0m_pickle\u001b[0m\u001b[0;34m\u001b[0m\u001b[0;34m\u001b[0m\u001b[0m\n\u001b[0m\u001b[1;32m    181\u001b[0m \u001b[0;32mfrom\u001b[0m \u001b[0;34m.\u001b[0m \u001b[0;32mimport\u001b[0m \u001b[0m_common\u001b[0m\u001b[0;34m\u001b[0m\u001b[0;34m\u001b[0m\u001b[0m\n\u001b[1;32m    182\u001b[0m \u001b[0;32mfrom\u001b[0m \u001b[0;34m.\u001b[0m \u001b[0;32mimport\u001b[0m \u001b[0m_bounded_integers\u001b[0m\u001b[0;34m\u001b[0m\u001b[0;34m\u001b[0m\u001b[0m\n",
            "\u001b[0;32m/usr/local/lib/python3.11/dist-packages/numpy/random/_pickle.py\u001b[0m in \u001b[0;36m<module>\u001b[0;34m\u001b[0m\n\u001b[0;32m----> 1\u001b[0;31m \u001b[0;32mfrom\u001b[0m \u001b[0;34m.\u001b[0m\u001b[0mmtrand\u001b[0m \u001b[0;32mimport\u001b[0m \u001b[0mRandomState\u001b[0m\u001b[0;34m\u001b[0m\u001b[0;34m\u001b[0m\u001b[0m\n\u001b[0m\u001b[1;32m      2\u001b[0m \u001b[0;32mfrom\u001b[0m \u001b[0;34m.\u001b[0m\u001b[0m_philox\u001b[0m \u001b[0;32mimport\u001b[0m \u001b[0mPhilox\u001b[0m\u001b[0;34m\u001b[0m\u001b[0;34m\u001b[0m\u001b[0m\n\u001b[1;32m      3\u001b[0m \u001b[0;32mfrom\u001b[0m \u001b[0;34m.\u001b[0m\u001b[0m_pcg64\u001b[0m \u001b[0;32mimport\u001b[0m \u001b[0mPCG64\u001b[0m\u001b[0;34m,\u001b[0m \u001b[0mPCG64DXSM\u001b[0m\u001b[0;34m\u001b[0m\u001b[0;34m\u001b[0m\u001b[0m\n\u001b[1;32m      4\u001b[0m \u001b[0;32mfrom\u001b[0m \u001b[0;34m.\u001b[0m\u001b[0m_sfc64\u001b[0m \u001b[0;32mimport\u001b[0m \u001b[0mSFC64\u001b[0m\u001b[0;34m\u001b[0m\u001b[0;34m\u001b[0m\u001b[0m\n\u001b[1;32m      5\u001b[0m \u001b[0;34m\u001b[0m\u001b[0m\n",
            "\u001b[0;32mnumpy/random/mtrand.pyx\u001b[0m in \u001b[0;36minit numpy.random.mtrand\u001b[0;34m()\u001b[0m\n",
            "\u001b[0;31mValueError\u001b[0m: numpy.dtype size changed, may indicate binary incompatibility. Expected 96 from C header, got 88 from PyObject"
          ]
        }
      ],
      "source": [
        "import matplotlib\n",
        "import matplotlib.pyplot as plt\n",
        "import numpy as np\n",
        "import seaborn\n",
        "import torch"
      ],
      "id": "MbnAMVUnyhjn"
    },
    {
      "cell_type": "code",
      "execution_count": null,
      "metadata": {
        "id": "N3XxWQoJyhjn"
      },
      "outputs": [],
      "source": [
        "seaborn.set_style(\"whitegrid\")\n",
        "\n",
        "FONTSIZE = 18\n",
        "matplotlib.rcParams[\"figure.figsize\"] = (10, 5)\n",
        "matplotlib.rcParams[\"figure.dpi\"] = 300\n",
        "matplotlib.rcParams[\"figure.titlesize\"] = FONTSIZE\n",
        "matplotlib.rcParams[\"font.family\"] = \"sans-serif\"\n",
        "matplotlib.rcParams[\"legend.fontsize\"] = FONTSIZE\n",
        "matplotlib.rcParams[\"xtick.labelsize\"] = FONTSIZE\n",
        "matplotlib.rcParams[\"ytick.labelsize\"] = FONTSIZE\n",
        "matplotlib.rcParams[\"axes.labelsize\"] = FONTSIZE\n",
        "matplotlib.rcParams[\"axes.titlesize\"] = FONTSIZE\n",
        "matplotlib.rcParams[\"savefig.bbox\"] = \"tight\"\n",
        "matplotlib.rcParams[\"savefig.pad_inches\"] = 0.1\n",
        "matplotlib.rcParams[\"lines.linewidth\"] = 2\n",
        "matplotlib.rcParams[\"axes.linewidth\"] = 1.6"
      ],
      "id": "N3XxWQoJyhjn"
    },
    {
      "cell_type": "code",
      "execution_count": null,
      "metadata": {
        "id": "tN_qrFdTyhjo"
      },
      "outputs": [],
      "source": [
        "torch.manual_seed(42)\n",
        "\n",
        "if not torch.cuda.is_available():\n",
        "    raise RuntimeWarning(\n",
        "        \"CUDA is not available. \"\n",
        "        \"If you're using Google Colab, you can enable GPUs as: \"\n",
        "        \"https://colab.research.google.com/notebooks/gpu.ipynb\"\n",
        "    )\n",
        "\n",
        "DEVICE = torch.device(\"cuda:0\" if torch.cuda.is_available() else \"cpu\")\n",
        "print(\"Default device:\", DEVICE)"
      ],
      "id": "tN_qrFdTyhjo"
    },
    {
      "cell_type": "code",
      "execution_count": null,
      "metadata": {
        "id": "H8cOM9B4yhjo"
      },
      "outputs": [],
      "source": [
        "# In each epoch, N_PATHS brownian motion time-series are generated.\n",
        "N_PATHS = 50000\n",
        "# How many times a model is updated in the experiment.\n",
        "N_EPOCHS = 200"
      ],
      "id": "H8cOM9B4yhjo"
    },
    {
      "cell_type": "code",
      "execution_count": null,
      "metadata": {
        "id": "mYad7rn4yhjo"
      },
      "outputs": [],
      "source": [
        "def to_numpy(tensor: torch.Tensor) -> np.array:\n",
        "    return tensor.cpu().detach().numpy()"
      ],
      "id": "mYad7rn4yhjo"
    },
    {
      "cell_type": "markdown",
      "metadata": {
        "id": "wP-FBUrZyhjo"
      },
      "source": [
        "## How to Use"
      ],
      "id": "wP-FBUrZyhjo"
    },
    {
      "cell_type": "markdown",
      "metadata": {
        "tags": [],
        "id": "dCX1hKuSyhjp"
      },
      "source": [
        "### Prepare Instruments"
      ],
      "id": "dCX1hKuSyhjp"
    },
    {
      "cell_type": "markdown",
      "metadata": {
        "id": "_gBYijm-yhjq"
      },
      "source": [
        "We consider a `BrownianStock`, which is a stock following the geometric Brownian motion, and a `EuropeanOption` which is contingent on it.\n",
        "\n",
        "We assume that the stock has a transaction cost given by `cost`."
      ],
      "id": "_gBYijm-yhjq"
    },
    {
      "cell_type": "code",
      "execution_count": null,
      "metadata": {
        "id": "1GcLtaxfyhjq"
      },
      "outputs": [],
      "source": [
        "from pfhedge.instruments import BrownianStock, EuropeanOption\n",
        "\n",
        "stock = BrownianStock(cost=1e-3)\n",
        "derivative = EuropeanOption(stock).to(DEVICE)"
      ],
      "id": "1GcLtaxfyhjq"
    },
    {
      "cell_type": "code",
      "execution_count": null,
      "metadata": {
        "id": "WV1i7TAGyhjq"
      },
      "outputs": [],
      "source": [
        "derivative"
      ],
      "id": "WV1i7TAGyhjq"
    },
    {
      "cell_type": "markdown",
      "metadata": {
        "id": "Nwhe_IzUyhjq"
      },
      "source": [
        "### Create Your Hedger"
      ],
      "id": "Nwhe_IzUyhjq"
    },
    {
      "cell_type": "markdown",
      "metadata": {
        "id": "ng1JsNNgyhjq"
      },
      "source": [
        "We here use a multi-layer perceptron as our model."
      ],
      "id": "ng1JsNNgyhjq"
    },
    {
      "cell_type": "code",
      "execution_count": null,
      "metadata": {
        "id": "RMsObOXnyhjq"
      },
      "outputs": [],
      "source": [
        "from pfhedge.nn import Hedger\n",
        "from pfhedge.nn import MultiLayerPerceptron\n",
        "\n",
        "model = MultiLayerPerceptron()\n",
        "hedger = Hedger(\n",
        "    model, inputs=[\"log_moneyness\", \"expiry_time\", \"volatility\", \"prev_hedge\"]\n",
        ").to(DEVICE)"
      ],
      "id": "RMsObOXnyhjq"
    },
    {
      "cell_type": "markdown",
      "metadata": {
        "id": "sicBf94eyhjr"
      },
      "source": [
        "The `hedger` is also a [`Module`](https://pytorch.org/docs/stable/generated/torch.nn.Module.html#torch.nn.Module)."
      ],
      "id": "sicBf94eyhjr"
    },
    {
      "cell_type": "code",
      "execution_count": null,
      "metadata": {
        "id": "AmJGrb_nyhjr"
      },
      "outputs": [],
      "source": [
        "hedger"
      ],
      "id": "AmJGrb_nyhjr"
    },
    {
      "cell_type": "code",
      "execution_count": null,
      "metadata": {
        "id": "OPyE5nKMyhjr"
      },
      "outputs": [],
      "source": [
        "history = hedger.fit(derivative, n_epochs=N_EPOCHS, n_paths=N_PATHS, n_times=20)"
      ],
      "id": "OPyE5nKMyhjr"
    },
    {
      "cell_type": "code",
      "execution_count": null,
      "metadata": {
        "id": "ZB4_SROWyhjr"
      },
      "outputs": [],
      "source": [
        "plt.plot(history)\n",
        "plt.xlabel(\"Number of epochs\")\n",
        "plt.ylabel(\"Loss (entropic risk measure)\")\n",
        "plt.title(\"Loss histories for a European option\")\n",
        "plt.show()"
      ],
      "id": "ZB4_SROWyhjr"
    },
    {
      "cell_type": "code",
      "execution_count": null,
      "metadata": {
        "id": "uC7BpnbSyhjr"
      },
      "outputs": [],
      "source": [
        "pnl = hedger.compute_pnl(derivative, n_paths=50000)\n",
        "\n",
        "plt.figure()\n",
        "plt.hist(to_numpy(pnl), bins=100)\n",
        "plt.title(\"Profit-loss histograms of 50000 price paths for a European option\")\n",
        "plt.xlabel(\"Profit-loss\")\n",
        "plt.ylabel(\"Number of events\")\n",
        "plt.show()"
      ],
      "id": "uC7BpnbSyhjr"
    },
    {
      "cell_type": "code",
      "execution_count": null,
      "metadata": {
        "id": "R7liNERqyhjr"
      },
      "outputs": [],
      "source": [
        "price = hedger.price(derivative)\n",
        "price"
      ],
      "id": "R7liNERqyhjr"
    },
    {
      "cell_type": "markdown",
      "metadata": {
        "id": "LFr82nk6yhjr"
      },
      "source": [
        "## More Examples"
      ],
      "id": "LFr82nk6yhjr"
    },
    {
      "cell_type": "markdown",
      "metadata": {
        "id": "eH0Jj5G3yhjr"
      },
      "source": [
        "### Black-Scholes' Delta-Hedging Strategy"
      ],
      "id": "eH0Jj5G3yhjr"
    },
    {
      "cell_type": "code",
      "execution_count": null,
      "metadata": {
        "id": "a_U9BXUGyhjs"
      },
      "outputs": [],
      "source": [
        "from pfhedge.nn import Hedger\n",
        "from pfhedge.nn import BlackScholes\n",
        "\n",
        "model = BlackScholes(derivative)\n",
        "hedger = Hedger(model, inputs=model.inputs()).to(DEVICE)"
      ],
      "id": "a_U9BXUGyhjs"
    },
    {
      "cell_type": "code",
      "execution_count": null,
      "metadata": {
        "id": "SOXSH0Byyhjs"
      },
      "outputs": [],
      "source": [
        "hedger"
      ],
      "id": "SOXSH0Byyhjs"
    },
    {
      "cell_type": "code",
      "execution_count": null,
      "metadata": {
        "id": "O3mHAZmkyhjs"
      },
      "outputs": [],
      "source": [
        "price = hedger.price(derivative)\n",
        "price"
      ],
      "id": "O3mHAZmkyhjs"
    },
    {
      "cell_type": "markdown",
      "metadata": {
        "id": "H6OrR-5ayhjs"
      },
      "source": [
        "### Whalley-Wilmott's Asymptotically Optimal Strategy for Small Costs"
      ],
      "id": "H6OrR-5ayhjs"
    },
    {
      "cell_type": "code",
      "execution_count": null,
      "metadata": {
        "id": "zQb20Ky6yhjs"
      },
      "outputs": [],
      "source": [
        "from pfhedge.nn import Hedger\n",
        "from pfhedge.nn import WhalleyWilmott\n",
        "\n",
        "model = WhalleyWilmott(derivative)\n",
        "hedger = Hedger(model, inputs=model.inputs()).to(DEVICE)"
      ],
      "id": "zQb20Ky6yhjs"
    },
    {
      "cell_type": "code",
      "execution_count": null,
      "metadata": {
        "id": "fJ7IQ_LByhjs"
      },
      "outputs": [],
      "source": [
        "price = hedger.price(derivative)\n",
        "price"
      ],
      "id": "fJ7IQ_LByhjs"
    },
    {
      "cell_type": "markdown",
      "metadata": {
        "id": "771Z-SyQyhjs"
      },
      "source": [
        "### Your Own Module"
      ],
      "id": "771Z-SyQyhjs"
    },
    {
      "cell_type": "code",
      "execution_count": null,
      "metadata": {
        "id": "o34-bEZKyhjs"
      },
      "outputs": [],
      "source": [
        "import torch.nn.functional as fn\n",
        "from torch import Tensor\n",
        "from torch.nn import Module\n",
        "\n",
        "from pfhedge.nn import BlackScholes, Clamp, MultiLayerPerceptron\n",
        "\n",
        "\n",
        "class NoTransactionBandNet(Module):\n",
        "    def __init__(self, derivative):\n",
        "        super().__init__()\n",
        "\n",
        "        self.delta = BlackScholes(derivative)\n",
        "        self.mlp = MultiLayerPerceptron(out_features=2)\n",
        "        self.clamp = Clamp()\n",
        "\n",
        "    def inputs(self):\n",
        "        return self.delta.inputs() + [\"prev_hedge\"]\n",
        "\n",
        "    def forward(self, input: Tensor) -> Tensor:\n",
        "        prev_hedge = input[..., [-1]]\n",
        "\n",
        "        delta = self.delta(input[..., :-1])\n",
        "        width = self.mlp(input[..., :-1])\n",
        "\n",
        "        min = delta - fn.leaky_relu(width[..., [0]])\n",
        "        max = delta + fn.leaky_relu(width[..., [1]])\n",
        "\n",
        "        return self.clamp(prev_hedge, min=min, max=max)"
      ],
      "id": "o34-bEZKyhjs"
    },
    {
      "cell_type": "code",
      "execution_count": null,
      "metadata": {
        "id": "Skg_yOOryhjt"
      },
      "outputs": [],
      "source": [
        "model = NoTransactionBandNet(derivative)\n",
        "hedger = Hedger(model, inputs=model.inputs()).to(DEVICE)"
      ],
      "id": "Skg_yOOryhjt"
    },
    {
      "cell_type": "code",
      "execution_count": null,
      "metadata": {
        "id": "kg9-P2C1yhjt"
      },
      "outputs": [],
      "source": [
        "history = hedger.fit(derivative, n_epochs=N_EPOCHS, n_paths=N_PATHS, n_times=20)"
      ],
      "id": "kg9-P2C1yhjt"
    },
    {
      "cell_type": "code",
      "execution_count": null,
      "metadata": {
        "id": "ikCVcyr-yhjt"
      },
      "outputs": [],
      "source": [
        "plt.plot(history)\n",
        "plt.xlabel(\"Number of epochs\")\n",
        "plt.ylabel(\"Loss (entropic risk measure)\")\n",
        "plt.title(\"Loss histories for a European option\")\n",
        "plt.show()"
      ],
      "id": "ikCVcyr-yhjt"
    },
    {
      "cell_type": "code",
      "execution_count": null,
      "metadata": {
        "id": "ek2-rA-eyhjt"
      },
      "outputs": [],
      "source": [
        "pnl = hedger.compute_pnl(derivative, n_paths=50000)\n",
        "\n",
        "plt.figure()\n",
        "plt.hist(to_numpy(pnl), bins=100)\n",
        "plt.title(\"Profit-loss histograms of 50000 price paths for a European option\")\n",
        "plt.xlabel(\"Profit-loss\")\n",
        "plt.ylabel(\"Number of events\")\n",
        "plt.show()"
      ],
      "id": "ek2-rA-eyhjt"
    },
    {
      "cell_type": "code",
      "execution_count": null,
      "metadata": {
        "id": "bvvs9PZEyhjt"
      },
      "outputs": [],
      "source": [
        "price = hedger.price(derivative)\n",
        "price"
      ],
      "id": "bvvs9PZEyhjt"
    },
    {
      "cell_type": "markdown",
      "metadata": {
        "id": "Q-APtcsryhju"
      },
      "source": [
        "### Use Expected Shortfall as a Loss function"
      ],
      "id": "Q-APtcsryhju"
    },
    {
      "cell_type": "code",
      "execution_count": null,
      "metadata": {
        "id": "2mfL1At3yhju"
      },
      "outputs": [],
      "source": [
        "from pfhedge.nn import ExpectedShortfall"
      ],
      "id": "2mfL1At3yhju"
    },
    {
      "cell_type": "code",
      "execution_count": null,
      "metadata": {
        "id": "n3ZxJMTayhju"
      },
      "outputs": [],
      "source": [
        "# Expected shortfall with the quantile level of 10%\n",
        "expected_shortfall = ExpectedShortfall(0.1)\n",
        "\n",
        "model = NoTransactionBandNet(derivative)\n",
        "hedger = Hedger(model, inputs=model.inputs(), criterion=expected_shortfall).to(DEVICE)"
      ],
      "id": "n3ZxJMTayhju"
    },
    {
      "cell_type": "code",
      "execution_count": null,
      "metadata": {
        "id": "w-MyUOvgyhju"
      },
      "outputs": [],
      "source": [
        "history = hedger.fit(derivative, n_epochs=N_EPOCHS, n_paths=N_PATHS, n_times=20)"
      ],
      "id": "w-MyUOvgyhju"
    },
    {
      "cell_type": "code",
      "execution_count": null,
      "metadata": {
        "id": "Gayzxuvnyhjv"
      },
      "outputs": [],
      "source": [
        "plt.plot(history)\n",
        "plt.xlabel(\"Number of epochs\")\n",
        "plt.ylabel(\"Loss (entropic risk measure)\")\n",
        "plt.title(\"Loss histories for a European option\")\n",
        "plt.show()"
      ],
      "id": "Gayzxuvnyhjv"
    },
    {
      "cell_type": "code",
      "execution_count": null,
      "metadata": {
        "id": "dkGhIlvIyhjv"
      },
      "outputs": [],
      "source": [
        "pnl = hedger.compute_pnl(derivative, n_paths=50000)\n",
        "\n",
        "plt.figure()\n",
        "plt.hist(to_numpy(pnl), bins=100)\n",
        "plt.title(\"Profit-loss histograms of 50000 price paths for a European option\")\n",
        "plt.xlabel(\"Profit-loss\")\n",
        "plt.ylabel(\"Number of events\")\n",
        "plt.show()"
      ],
      "id": "dkGhIlvIyhjv"
    },
    {
      "cell_type": "code",
      "execution_count": null,
      "metadata": {
        "id": "k8Khwj5Wyhjv"
      },
      "outputs": [],
      "source": [
        "price = hedger.price(derivative)\n",
        "price"
      ],
      "id": "k8Khwj5Wyhjv"
    },
    {
      "cell_type": "code",
      "execution_count": null,
      "metadata": {
        "id": "WqDCeJcRyhjv"
      },
      "outputs": [],
      "source": [],
      "id": "WqDCeJcRyhjv"
    },
    {
      "cell_type": "code",
      "execution_count": null,
      "id": "816ef0de",
      "metadata": {
        "id": "816ef0de"
      },
      "outputs": [],
      "source": []
    }
  ],
  "metadata": {
    "interpreter": {
      "hash": "d79b388a38d14f9c81809feed319a626759412745495b86064f5b8e2e524d076"
    },
    "kernelspec": {
      "display_name": "Python 3.9.5 64-bit ('pfhedge-YRrs2QHC-py3.9': poetry)",
      "name": "python3"
    },
    "language_info": {
      "codemirror_mode": {
        "name": "ipython",
        "version": 3
      },
      "file_extension": ".py",
      "mimetype": "text/x-python",
      "name": "python",
      "nbconvert_exporter": "python",
      "pygments_lexer": "ipython3",
      "version": "3.9.10"
    },
    "colab": {
      "provenance": []
    }
  },
  "nbformat": 4,
  "nbformat_minor": 5
}